{
 "cells": [
  {
   "cell_type": "code",
   "execution_count": 104,
   "metadata": {
    "collapsed": false,
    "deletable": true,
    "editable": true
   },
   "outputs": [
    {
     "name": "stdout",
     "output_type": "stream",
     "text": [
      "[[-10, -10, 0], [-10, -10, -10], [-10, -10, -10]]\n",
      "[[0, 0, 0], [0, 0, 0], [0, 0, 0]]\n"
     ]
    }
   ],
   "source": [
    "import copy\n",
    "\n",
    "V=[[-10, -10,  0],\n",
    "   [-10, -10, -10],\n",
    "   [-10, -10, -10]]\n",
    "\n",
    "R=[[0, 0, 0],\n",
    "   [0, 0, 0],\n",
    "   [0, 0, 0]]\n",
    "\n",
    "print V\n",
    "print R"
   ]
  },
  {
   "cell_type": "code",
   "execution_count": 132,
   "metadata": {
    "collapsed": false
   },
   "outputs": [
    {
     "name": "stdout",
     "output_type": "stream",
     "text": [
      "(0, '\\xe3\\x83\\xbb')\n",
      "→\n"
     ]
    }
   ],
   "source": [
    "testV=[[-1, -2,  0],\n",
    "   [-4, -5, -6],\n",
    "   [-7, -8, -9]]\n",
    "\n",
    "def argMax(V, R, x, y,cost=1):\n",
    "    xmax = len(V[0])-1\n",
    "    ymax = len(V)-1\n",
    "    Vster = []\n",
    "    Varror = []\n",
    "    \n",
    "    if x>0:\n",
    "        Vster.append(V[y][x-1] - cost) \n",
    "        Varror.append(\"←\")\n",
    "    if x<xmax:\n",
    "        Vster.append(V[y][x+1] - cost)\n",
    "        Varror.append(\"→\")\n",
    "    if y>0:\n",
    "        Vster.append(V[y-1][x] - cost)\n",
    "        Varror.append(\"↑\")\n",
    "    if y<ymax:\n",
    "        Vster.append(V[y+1][x] - cost)\n",
    "        Varror.append(\"↓\")\n",
    "            \n",
    "    Vster.append(V[y][x])\n",
    "    Varror.append(\"・\")\n",
    "    \n",
    "    #print Vster\n",
    "    return max(Vster)-R[y][x], Varror[Vster.index(max(Vster))]\n",
    "\n",
    "print argMax(testV,R,2,0)"
   ]
  },
  {
   "cell_type": "code",
   "execution_count": 140,
   "metadata": {
    "collapsed": false,
    "deletable": true,
    "editable": true
   },
   "outputs": [
    {
     "name": "stdout",
     "output_type": "stream",
     "text": [
      "[[-2, -1, 0], [-3, -2, -1], [-4, -3, -2]]\n",
      "[['→', '→', '・'], ['→', '→', '↑'], ['→', '→', '↑']]\n"
     ]
    }
   ],
   "source": [
    "def kachihanpuku(V, R):\n",
    "    Vpre = copy.deepcopy(V)\n",
    "    Vster = [[0,0,0],[0,0,0],[0,0,0]]\n",
    "    Varror = [[0,0,0],[0,0,0],[0,0,0]]\n",
    "    firstFlag = 1\n",
    "   \n",
    "    #for i in range(5):\n",
    "    while True:\n",
    "        for x in range(len(V)):\n",
    "            for y in range(len(V[x])):\n",
    "                Vster[y][x],Varror[y][x] = argMax(Vpre, R, x, y)\n",
    "        \n",
    "        if Vpre == Vster:\n",
    "            break\n",
    "        Vpre = copy.deepcopy(Vster)\n",
    "    return Vster, Varror\n",
    "\n",
    "ans1, ans2 = kachihanpuku(V, R)\n",
    "print ans1\n",
    "print str(ans2).decode(\"string-escape\")"
   ]
  },
  {
   "cell_type": "code",
   "execution_count": 144,
   "metadata": {
    "collapsed": false
   },
   "outputs": [
    {
     "name": "stdout",
     "output_type": "stream",
     "text": [
      "([[-3, -2, 0], [-3, -2, -1], [-4, -3, -2]], [['→', '→', '・'], ['→', '→', '↑'], ['→', '→', '↑']])\n",
      "\n",
      "\n",
      "([[-4, -11, 0], [-3, -2, -1], [-4, -3, -2]], [['↓', '→', '・'], ['→', '→', '↑'], ['→', '→', '↑']])\n"
     ]
    }
   ],
   "source": [
    "R1=[[0, 1, 0],\n",
    "   [0, 0, 0],\n",
    "   [0, 0, 0]]\n",
    "\n",
    "R2=[[0, 10, 0],\n",
    "   [0, 0, 0],\n",
    "   [0, 0, 0]]\n",
    " \n",
    "print str(kachihanpuku(V, R1)).decode(\"string-escape\")\n",
    "print \"\\n\"\n",
    "print str(kachihanpuku(V, R2)).decode(\"string-escape\")"
   ]
  },
  {
   "cell_type": "code",
   "execution_count": 117,
   "metadata": {
    "collapsed": false
   },
   "outputs": [
    {
     "name": "stdout",
     "output_type": "stream",
     "text": [
      "→↑←↓\n"
     ]
    }
   ],
   "source": [
    "print \"→↑←↓\""
   ]
  },
  {
   "cell_type": "code",
   "execution_count": null,
   "metadata": {
    "collapsed": true
   },
   "outputs": [],
   "source": []
  }
 ],
 "metadata": {
  "kernelspec": {
   "display_name": "Python 2",
   "language": "python",
   "name": "python2"
  },
  "language_info": {
   "codemirror_mode": {
    "name": "ipython",
    "version": 2
   },
   "file_extension": ".py",
   "mimetype": "text/x-python",
   "name": "python",
   "nbconvert_exporter": "python",
   "pygments_lexer": "ipython2",
   "version": "2.7.13"
  }
 },
 "nbformat": 4,
 "nbformat_minor": 2
}
